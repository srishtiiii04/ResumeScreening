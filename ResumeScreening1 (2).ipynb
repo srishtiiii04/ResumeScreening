{
 "cells": [
  {
   "cell_type": "code",
   "execution_count": 1,
   "id": "d6324189-ff1b-4ff7-85b8-12b51f92e057",
   "metadata": {},
   "outputs": [
    {
     "data": {
      "text/html": [
       "<div>\n",
       "<style scoped>\n",
       "    .dataframe tbody tr th:only-of-type {\n",
       "        vertical-align: middle;\n",
       "    }\n",
       "\n",
       "    .dataframe tbody tr th {\n",
       "        vertical-align: top;\n",
       "    }\n",
       "\n",
       "    .dataframe thead th {\n",
       "        text-align: right;\n",
       "    }\n",
       "</style>\n",
       "<table border=\"1\" class=\"dataframe\">\n",
       "  <thead>\n",
       "    <tr style=\"text-align: right;\">\n",
       "      <th></th>\n",
       "      <th>Category</th>\n",
       "      <th>Resume</th>\n",
       "    </tr>\n",
       "  </thead>\n",
       "  <tbody>\n",
       "    <tr>\n",
       "      <th>0</th>\n",
       "      <td>Data Science</td>\n",
       "      <td>Skills * Programming Languages: Python (pandas...</td>\n",
       "    </tr>\n",
       "    <tr>\n",
       "      <th>1</th>\n",
       "      <td>Data Science</td>\n",
       "      <td>Education Details \\r\\nMay 2013 to May 2017 B.E...</td>\n",
       "    </tr>\n",
       "    <tr>\n",
       "      <th>2</th>\n",
       "      <td>Data Science</td>\n",
       "      <td>Areas of Interest Deep Learning, Control Syste...</td>\n",
       "    </tr>\n",
       "    <tr>\n",
       "      <th>3</th>\n",
       "      <td>Data Science</td>\n",
       "      <td>Skills â¢ R â¢ Python â¢ SAP HANA â¢ Table...</td>\n",
       "    </tr>\n",
       "    <tr>\n",
       "      <th>4</th>\n",
       "      <td>Data Science</td>\n",
       "      <td>Education Details \\r\\n MCA   YMCAUST,  Faridab...</td>\n",
       "    </tr>\n",
       "  </tbody>\n",
       "</table>\n",
       "</div>"
      ],
      "text/plain": [
       "       Category                                             Resume\n",
       "0  Data Science  Skills * Programming Languages: Python (pandas...\n",
       "1  Data Science  Education Details \\r\\nMay 2013 to May 2017 B.E...\n",
       "2  Data Science  Areas of Interest Deep Learning, Control Syste...\n",
       "3  Data Science  Skills â¢ R â¢ Python â¢ SAP HANA â¢ Table...\n",
       "4  Data Science  Education Details \\r\\n MCA   YMCAUST,  Faridab..."
      ]
     },
     "execution_count": 1,
     "metadata": {},
     "output_type": "execute_result"
    }
   ],
   "source": [
    "import numpy as np\n",
    "import pandas as pd\n",
    "import matplotlib.pyplot as plt\n",
    "df = pd.read_csv(\"C:\\\\Users\\\\singh\\\\Downloads\\\\UpdatedResumeDataSet1.csv\\\\UpdatedResumeDataSet.csv\")\n",
    "df.head()"
   ]
  },
  {
   "cell_type": "code",
   "execution_count": 2,
   "id": "09163f12-adba-4f90-89bc-5dfa40a731b1",
   "metadata": {},
   "outputs": [
    {
     "data": {
      "text/plain": [
       "(962, 2)"
      ]
     },
     "execution_count": 2,
     "metadata": {},
     "output_type": "execute_result"
    }
   ],
   "source": [
    "df.shape"
   ]
  },
  {
   "cell_type": "code",
   "execution_count": 3,
   "id": "92112cb2-aaed-4af5-a06e-8a8bdac5e1f7",
   "metadata": {},
   "outputs": [
    {
     "data": {
      "text/plain": [
       "Category\n",
       "Java Developer               84\n",
       "Testing                      70\n",
       "DevOps Engineer              55\n",
       "Python Developer             48\n",
       "Web Designing                45\n",
       "HR                           44\n",
       "Hadoop                       42\n",
       "Blockchain                   40\n",
       "ETL Developer                40\n",
       "Operations Manager           40\n",
       "Data Science                 40\n",
       "Sales                        40\n",
       "Mechanical Engineer          40\n",
       "Arts                         36\n",
       "Database                     33\n",
       "Electrical Engineering       30\n",
       "Health and fitness           30\n",
       "PMO                          30\n",
       "Business Analyst             28\n",
       "DotNet Developer             28\n",
       "Automation Testing           26\n",
       "Network Security Engineer    25\n",
       "SAP Developer                24\n",
       "Civil Engineer               24\n",
       "Advocate                     20\n",
       "Name: count, dtype: int64"
      ]
     },
     "execution_count": 3,
     "metadata": {},
     "output_type": "execute_result"
    }
   ],
   "source": [
    "df['Category'].value_counts()"
   ]
  },
  {
   "cell_type": "code",
   "execution_count": 4,
   "id": "cb0fd904-15c3-420c-b5bb-44bba4987009",
   "metadata": {},
   "outputs": [
    {
     "data": {
      "image/png": "[encoded data removed]",
      "text/plain": [
       "<Figure size 1000x700 with 1 Axes>"
      ]
     },
     "metadata": {},
     "output_type": "display_data"
    }
   ],
   "source": [
    "counts = df['Category'].value_counts()\n",
    "labels = counts.index  # Sorted by value_counts\n",
    "\n",
    "# Define basic colors\n",
    "colors = ['skyblue', 'lightgreen', 'salmon', 'gold', 'lightpink']  # Simple color palette\n",
    "\n",
    "# Create the pie chart\n",
    "plt.figure(figsize=(10, 7))\n",
    "plt.pie(counts, labels=labels, autopct='%1.1f%%', shadow=False, colors=colors)\n",
    "plt.show()"
   ]
  },
  {
   "cell_type": "markdown",
   "id": "a3e325ac-b53c-4977-ba02-4faf73dbd753",
   "metadata": {},
   "source": [
    "##OVERSAMPLING"
   ]
  },
  {
   "cell_type": "code",
   "execution_count": 5,
   "id": "97d52c2e-633d-4c55-9b1e-f50d926f982a",
   "metadata": {},
   "outputs": [
    {
     "name": "stdout",
     "output_type": "stream",
     "text": [
      "Original Category Distribution:\n",
      "Category\n",
      "Java Developer               84\n",
      "Testing                      70\n",
      "DevOps Engineer              55\n",
      "Python Developer             48\n",
      "Web Designing                45\n",
      "HR                           44\n",
      "Hadoop                       42\n",
      "Blockchain                   40\n",
      "ETL Developer                40\n",
      "Operations Manager           40\n",
      "Data Science                 40\n",
      "Sales                        40\n",
      "Mechanical Engineer          40\n",
      "Arts                         36\n",
      "Database                     33\n",
      "Electrical Engineering       30\n",
      "Health and fitness           30\n",
      "PMO                          30\n",
      "Business Analyst             28\n",
      "DotNet Developer             28\n",
      "Automation Testing           26\n",
      "Network Security Engineer    25\n",
      "SAP Developer                24\n",
      "Civil Engineer               24\n",
      "Advocate                     20\n",
      "Name: count, dtype: int64\n",
      "\n",
      "Balanced Category Distribution (After Oversampling):\n",
      "Category\n",
      "ETL Developer                84\n",
      "SAP Developer                84\n",
      "Data Science                 84\n",
      "HR                           84\n",
      "Mechanical Engineer          84\n",
      "DotNet Developer             84\n",
      "Java Developer               84\n",
      "PMO                          84\n",
      "Automation Testing           84\n",
      "Web Designing                84\n",
      "Sales                        84\n",
      "Database                     84\n",
      "Advocate                     84\n",
      "Network Security Engineer    84\n",
      "Blockchain                   84\n",
      "Health and fitness           84\n",
      "Business Analyst             84\n",
      "Arts                         84\n",
      "Operations Manager           84\n",
      "Hadoop                       84\n",
      "Civil Engineer               84\n",
      "Testing                      84\n",
      "Electrical Engineering       84\n",
      "DevOps Engineer              84\n",
      "Python Developer             84\n",
      "Name: count, dtype: int64\n"
     ]
    },
    {
     "name": "stderr",
     "output_type": "stream",
     "text": [
      "C:\\Users\\singh\\AppData\\Local\\Temp\\ipykernel_27832\\2319149233.py:4: DeprecationWarning: DataFrameGroupBy.apply operated on the grouping columns. This behavior is deprecated, and in a future version of pandas the grouping columns will be excluded from the operation. Either pass `include_groups=False` to exclude the groupings or explicitly select the grouping columns after groupby to silence this warning.\n",
      "  balanced_df = df.groupby('Category').apply(lambda x: x.sample(max_size, replace=True)).reset_index(drop=True)\n"
     ]
    },
    {
     "data": {
      "text/html": [
       "<div>\n",
       "<style scoped>\n",
       "    .dataframe tbody tr th:only-of-type {\n",
       "        vertical-align: middle;\n",
       "    }\n",
       "\n",
       "    .dataframe tbody tr th {\n",
       "        vertical-align: top;\n",
       "    }\n",
       "\n",
       "    .dataframe thead th {\n",
       "        text-align: right;\n",
       "    }\n",
       "</style>\n",
       "<table border=\"1\" class=\"dataframe\">\n",
       "  <thead>\n",
       "    <tr style=\"text-align: right;\">\n",
       "      <th></th>\n",
       "      <th>Category</th>\n",
       "      <th>Resume</th>\n",
       "    </tr>\n",
       "  </thead>\n",
       "  <tbody>\n",
       "    <tr>\n",
       "      <th>0</th>\n",
       "      <td>ETL Developer</td>\n",
       "      <td>TechnicalProficiencies DB: Oracle 11g Domains:...</td>\n",
       "    </tr>\n",
       "    <tr>\n",
       "      <th>1</th>\n",
       "      <td>Network Security Engineer</td>\n",
       "      <td>Operating Systems: Windows, Linux, Ubuntu Netw...</td>\n",
       "    </tr>\n",
       "    <tr>\n",
       "      <th>2</th>\n",
       "      <td>DevOps Engineer</td>\n",
       "      <td>Software Proficiency: â¢ Languages: Basics of...</td>\n",
       "    </tr>\n",
       "    <tr>\n",
       "      <th>3</th>\n",
       "      <td>Electrical Engineering</td>\n",
       "      <td>Education Details \\r\\nJanuary 2012 to January ...</td>\n",
       "    </tr>\n",
       "    <tr>\n",
       "      <th>4</th>\n",
       "      <td>Testing</td>\n",
       "      <td>COMPUTER PROFICIENCY â¢ Basic: MS-Office (Pow...</td>\n",
       "    </tr>\n",
       "  </tbody>\n",
       "</table>\n",
       "</div>"
      ],
      "text/plain": [
       "                    Category  \\\n",
       "0              ETL Developer   \n",
       "1  Network Security Engineer   \n",
       "2            DevOps Engineer   \n",
       "3     Electrical Engineering   \n",
       "4                    Testing   \n",
       "\n",
       "                                              Resume  \n",
       "0  TechnicalProficiencies DB: Oracle 11g Domains:...  \n",
       "1  Operating Systems: Windows, Linux, Ubuntu Netw...  \n",
       "2  Software Proficiency: â¢ Languages: Basics of...  \n",
       "3  Education Details \\r\\nJanuary 2012 to January ...  \n",
       "4  COMPUTER PROFICIENCY â¢ Basic: MS-Office (Pow...  "
      ]
     },
     "execution_count": 5,
     "metadata": {},
     "output_type": "execute_result"
    }
   ],
   "source": [
    "print(\"Original Category Distribution:\")\n",
    "print(df['Category'].value_counts())\n",
    "max_size = df['Category'].value_counts().max()\n",
    "balanced_df = df.groupby('Category').apply(lambda x: x.sample(max_size, replace=True)).reset_index(drop=True)\n",
    "df = balanced_df.sample(frac=1).reset_index(drop=True)\n",
    "print(\"\\nBalanced Category Distribution (After Oversampling):\")\n",
    "print(df['Category'].value_counts())\n",
    "\n",
    "df.head()"
   ]
  },
  {
   "cell_type": "markdown",
   "id": "9be3fc23-89d5-4a6d-a1e2-d8f1e0da1553",
   "metadata": {},
   "source": [
    "##CLEANING DATA\n",
    "\n",
    ">>pointless datapoints remve\n",
    ">>url hastags mentions special chars puncts"
   ]
  },
  {
   "cell_type": "code",
   "execution_count": 6,
   "id": "c0771830-2dba-4cb8-8e10-0c787406bd4c",
   "metadata": {},
   "outputs": [
    {
     "name": "stderr",
     "output_type": "stream",
     "text": [
      "<>:4: SyntaxWarning: invalid escape sequence '\\S'\n",
      "<>:6: SyntaxWarning: invalid escape sequence '\\S'\n",
      "<>:7: SyntaxWarning: invalid escape sequence '\\S'\n",
      "<>:8: SyntaxWarning: invalid escape sequence '\\]'\n",
      "<>:10: SyntaxWarning: invalid escape sequence '\\s'\n",
      "<>:4: SyntaxWarning: invalid escape sequence '\\S'\n",
      "<>:6: SyntaxWarning: invalid escape sequence '\\S'\n",
      "<>:7: SyntaxWarning: invalid escape sequence '\\S'\n",
      "<>:8: SyntaxWarning: invalid escape sequence '\\]'\n",
      "<>:10: SyntaxWarning: invalid escape sequence '\\s'\n",
      "C:\\Users\\singh\\AppData\\Local\\Temp\\ipykernel_27832\\1892245960.py:4: SyntaxWarning: invalid escape sequence '\\S'\n",
      "  cleanText = re.sub('http\\S+\\s', ' ', txt)\n",
      "C:\\Users\\singh\\AppData\\Local\\Temp\\ipykernel_27832\\1892245960.py:6: SyntaxWarning: invalid escape sequence '\\S'\n",
      "  cleanText = re.sub('#\\S+\\s', ' ', cleanText)\n",
      "C:\\Users\\singh\\AppData\\Local\\Temp\\ipykernel_27832\\1892245960.py:7: SyntaxWarning: invalid escape sequence '\\S'\n",
      "  cleanText = re.sub('@\\S+', '  ', cleanText)\n",
      "C:\\Users\\singh\\AppData\\Local\\Temp\\ipykernel_27832\\1892245960.py:8: SyntaxWarning: invalid escape sequence '\\]'\n",
      "  cleanText = re.sub('[%s]' % re.escape(\"\"\"!\"#$%&'()*+,-./:;<=>?@[\\]^_`{|}~\"\"\"), ' ', cleanText)\n",
      "C:\\Users\\singh\\AppData\\Local\\Temp\\ipykernel_27832\\1892245960.py:10: SyntaxWarning: invalid escape sequence '\\s'\n",
      "  cleanText = re.sub('\\s+', ' ', cleanText)\n"
     ]
    }
   ],
   "source": [
    "import re\n",
    "\n",
    "def cleanResume(txt):\n",
    "    cleanText = re.sub('http\\S+\\s', ' ', txt)\n",
    "    cleanText = re.sub('RT|cc', ' ', cleanText)\n",
    "    cleanText = re.sub('#\\S+\\s', ' ', cleanText)\n",
    "    cleanText = re.sub('@\\S+', '  ', cleanText)  \n",
    "    cleanText = re.sub('[%s]' % re.escape(\"\"\"!\"#$%&'()*+,-./:;<=>?@[\\]^_`{|}~\"\"\"), ' ', cleanText)\n",
    "    cleanText = re.sub(r'[^\\x00-\\x7f]', ' ', cleanText) \n",
    "    cleanText = re.sub('\\s+', ' ', cleanText)\n",
    "    return cleanText"
   ]
  },
  {
   "cell_type": "code",
   "execution_count": 7,
   "id": "f3f46be2-029a-42ba-978c-fcea307b724e",
   "metadata": {},
   "outputs": [
    {
     "data": {
      "text/plain": [
       "'my webiste like is this and a ess it '"
      ]
     },
     "execution_count": 7,
     "metadata": {},
     "output_type": "execute_result"
    }
   ],
   "source": [
    "cleanResume(\"my #### $ #  #noorsaeed webiste like is this http://heloword and access it @gmain.com\")"
   ]
  },
  {
   "cell_type": "code",
   "execution_count": 8,
   "id": "d04b025b-f57f-44c2-879d-3a0e7c928f00",
   "metadata": {},
   "outputs": [
    {
     "data": {
      "text/plain": [
       "'TechnicalProficiencies DB Oracle 11g Domains Investment Banking Advertising Insurance Programming Skills SQL PLSQL BI Tools Informatica 9 1 OS Windows Unix Professional Development Trainings Concepts in Data Warehousing Business Intelligence ETL BI Tools Informatica 9X Education Details BCA Nanded Maharashtra Nanded University ETL Developer ETL Developer Sun Trust Bank NY Skill Details ETL Exprience 39 months EXTRACT TRANSFORM AND LOAD Exprience 39 months INFORMATICA Exprience 39 months ORACLE Exprience 39 months UNIX Exprience 39 monthsCompany Details company Sun Trust Bank NY description Sun Trust Bank NY JAN 2018 to present Client Sun Trust Bank NY Environment Informatica Power Center 9 1 Oracle 11g unix Role ETL Developer Project Profile Sun Trust Bank is a US based multinational financial services holding company headquarters in NY that operates the Bank in New York and other financial services investments The company is organized as a stock corporation with four divisions investment banking private banking Retail banking and a shared services group that provides Financial services and support to the other divisions The objective of the first module was to create a DR system for the bank with a central point of communication and storage for Listed Cash securities Loans Bonds Notes Equities Rates Commodities and FX asset classes Contribution Highlights Liaising closely with Project Manager Business Analysts Product Architects and Requirements Modelers CFOC to define Technical requirements and create project documentation Development using Infa 9 1 11g Oracle UNIX Use Informatica PowerCenter for extraction transformation and loading ETL of data in the Database Created and configured Sessions in Informatica workflow Manager for loading data into Data base tables from various heterogeneous database sources like Flat Files Oracle etc Unit testing and system integration testing of the developed mappings Providing production Support of the deployed code Providing solutions to the business for the Production issues Had one to One interaction with the client throughout the project and in daily meetings Project company Marshall Multimedia description JUN 2016 to DEC 2017 Client Marshall Multimedia Environment Informatica Power Center 9 1 Oracle 11g unix Role ETL Developer Project Profile Marshall Multimedia is a US based multimedia advertisement services based organization which has head courter in New York EGC interface systems are advert management Customer Management Billing and Provisioning Systems for Consumer Enterprise Customers The main aim of the project was to create an enterprise data warehouse which would suffice the need of reports belonging to the following categories Financial reports management reports and rejection reports The professional reports were created by Cognos and ETL work was performed by Informatica This project is to load the advert details and magazine details coming in Relational tables into data warehouse and calculate the compensation and incentive amount monthly twice as per business rules Contribution Highlights Developed mappings using different sources by using Informatica transformations Created and configured Sessions in Informatica workflow Manager for loading data into Data Mart tables from various heterogeneous database sources like Flat Files Oracle etc 2 Unit testing and system integration testing of the developed mappings Providing solutions to the business for the Production issues Project company Assurant healthcare Insurance Miami USA description Assurant USA NOV 2015 to MAY 2016 Project ACT BI State Datamart Client Assurant healthcare Insurance Miami USA Environment Informatica Power Center 9 1 Oracle 11g unix Role ETL Developer Project Profile Assurant Inc is a holding company with businesses that provide a diverse set of specialty niche market insurance products in the property casualty life and health insurance sectors The company s four operating segments are Assurant Employee Benefits Assurant Health Assurant Solutions and Assurant Specialty Property The project aim at building State Datamart for enterprise solution I am part of team which is responsible for ETL Design development along with testing Contribution Highlights Performed small enhancement Daily load monitoring Attend to Informatica job failures by analyzing the root cause resolving the failure using standard documented process Experience in writing SQL statements Strong Problem Analysis Resolution skills and ability to work in Multi Platform Environments Scheduled the Informatica jobs using Informatica scheduler Extensively used ETL methodology for developing and supporting data extraction transformations and loading process in a corporate wide ETL Solution using Informatica Involved in creating the Unit cases and uploaded in to Quality Center for Unit Testing and UTR Ensure that daily support tasks are done in a ordance with the defined SLA '"
      ]
     },
     "execution_count": 8,
     "metadata": {},
     "output_type": "execute_result"
    }
   ],
   "source": [
    "df['Resume'] = df['Resume'].apply(lambda x: cleanResume(x))\n",
    "df['Resume'][0]"
   ]
  },
  {
   "cell_type": "markdown",
   "id": "d7b0aac4-380d-4c9e-93c0-3ffd2a61ed76",
   "metadata": {},
   "source": [
    "Converting into categorical values"
   ]
  },
  {
   "cell_type": "code",
   "execution_count": 9,
   "id": "064f5988-9e46-405d-8ffa-5747caeab900",
   "metadata": {},
   "outputs": [
    {
     "data": {
      "text/plain": [
       "array([10, 17,  8, 11, 23,  5, 13, 18,  1,  4, 14,  3,  0, 21,  7, 22, 24,\n",
       "        2, 19, 15,  9, 16, 12,  6, 20])"
      ]
     },
     "execution_count": 9,
     "metadata": {},
     "output_type": "execute_result"
    }
   ],
   "source": [
    "from sklearn.preprocessing import LabelEncoder\n",
    "le = LabelEncoder()\n",
    "le.fit(df['Category'])\n",
    "df['Category'] = le.transform(df['Category'])\n",
    "df.Category.unique()"
   ]
  },
  {
   "cell_type": "markdown",
   "id": "8406c7ab-cd75-4686-87db-86fa2f3f35e8",
   "metadata": {},
   "source": [
    "Vectorization and splitting"
   ]
  },
  {
   "cell_type": "code",
   "execution_count": 10,
   "id": "508f9c8c-bd29-4243-a9b2-4f171600ec93",
   "metadata": {},
   "outputs": [],
   "source": [
    "from sklearn.feature_extraction.text import TfidfVectorizer\n",
    "tfidf = TfidfVectorizer(stop_words='english')\n",
    "\n",
    "tfidf.fit(df['Resume'])\n",
    "requiredText  = tfidf.transform(df['Resume'])"
   ]
  },
  {
   "cell_type": "code",
   "execution_count": 11,
   "id": "d1a181a7-26ed-44e4-9f77-ee9aaed63bf9",
   "metadata": {},
   "outputs": [
    {
     "data": {
      "text/plain": [
       "(1680, 7267)"
      ]
     },
     "execution_count": 11,
     "metadata": {},
     "output_type": "execute_result"
    }
   ],
   "source": [
    "from sklearn.model_selection import train_test_split\n",
    "X_train, X_test, y_train, y_test = train_test_split(requiredText, df['Category'], test_size=0.2, random_state=42)\n",
    "X_train.shape"
   ]
  },
  {
   "cell_type": "code",
   "execution_count": 12,
   "id": "546eb5c5-17e3-4d29-a1f0-edd9b57bee65",
   "metadata": {},
   "outputs": [
    {
     "data": {
      "text/plain": [
       "(420, 7267)"
      ]
     },
     "execution_count": 12,
     "metadata": {},
     "output_type": "execute_result"
    }
   ],
   "source": [
    "X_test.shape"
   ]
  },
  {
   "cell_type": "markdown",
   "id": "b9750aa6-0433-40bd-a4b3-d634adc6ae99",
   "metadata": {},
   "source": [
    "MODEL TRAINING AND CLASSIFICATION REPORT"
   ]
  },
  {
   "cell_type": "code",
   "execution_count": 13,
   "id": "eb428db0-48a6-443f-9661-f15ea2b856dc",
   "metadata": {},
   "outputs": [],
   "source": [
    "from sklearn.neighbors import KNeighborsClassifier\n",
    "from sklearn.svm import SVC\n",
    "from sklearn.linear_model import LogisticRegression\n",
    "from sklearn.tree import DecisionTreeClassifier\n",
    "from sklearn.ensemble import RandomForestClassifier\n",
    "from sklearn.multiclass import OneVsRestClassifier\n",
    "from sklearn.metrics import accuracy_score, confusion_matrix, classification_report\n",
    "\n",
    "X_train = X_train.toarray() if hasattr(X_train, 'toarray') else X_train\n",
    "X_test = X_test.toarray() if hasattr(X_test, 'toarray') else X_test\n"
   ]
  },
  {
   "cell_type": "code",
   "execution_count": 14,
   "id": "a0c27cb7",
   "metadata": {},
   "outputs": [
    {
     "name": "stdout",
     "output_type": "stream",
     "text": [
      "\n",
      "KNeighborsClassifier Results:\n",
      "Accuracy: 0.9952\n",
      "Confusion Matrix:\n",
      "[[14  0  0  0  0  0  0  0  0  0  0  0  0  0  0  0  0  0  0  0  0  0  0  0\n",
      "   0]\n",
      " [ 0 13  0  0  0  0  0  0  0  0  0  0  0  0  0  0  0  0  0  0  0  0  0  0\n",
      "   0]\n",
      " [ 0  0 15  0  0  0  0  0  0  0  0  0  0  0  0  0  0  0  0  0  0  0  0  0\n",
      "   0]\n",
      " [ 0  0  0 20  0  0  0  0  0  0  0  0  0  0  0  0  0  0  0  0  0  0  0  0\n",
      "   0]\n",
      " [ 0  0  0  0 20  0  0  0  0  0  0  0  0  0  0  0  0  0  0  0  0  0  0  0\n",
      "   0]\n",
      " [ 0  0  0  0  0 11  0  0  0  0  0  0  0  0  0  0  0  0  0  0  0  0  0  0\n",
      "   0]\n",
      " [ 0  0  0  0  0  0 15  0  0  0  0  0  0  0  0  0  0  0  0  0  0  0  0  0\n",
      "   0]\n",
      " [ 0  0  0  0  0  0  0 17  0  0  0  0  0  0  0  0  0  0  0  0  0  0  0  0\n",
      "   0]\n",
      " [ 0  0  2  0  0  0  0  0 19  0  0  0  0  0  0  0  0  0  0  0  0  0  0  0\n",
      "   0]\n",
      " [ 0  0  0  0  0  0  0  0  0 13  0  0  0  0  0  0  0  0  0  0  0  0  0  0\n",
      "   0]\n",
      " [ 0  0  0  0  0  0  0  0  0  0 17  0  0  0  0  0  0  0  0  0  0  0  0  0\n",
      "   0]\n",
      " [ 0  0  0  0  0  0  0  0  0  0  0 20  0  0  0  0  0  0  0  0  0  0  0  0\n",
      "   0]\n",
      " [ 0  0  0  0  0  0  0  0  0  0  0  0 15  0  0  0  0  0  0  0  0  0  0  0\n",
      "   0]\n",
      " [ 0  0  0  0  0  0  0  0  0  0  0  0  0 20  0  0  0  0  0  0  0  0  0  0\n",
      "   0]\n",
      " [ 0  0  0  0  0  0  0  0  0  0  0  0  0  0 20  0  0  0  0  0  0  0  0  0\n",
      "   0]\n",
      " [ 0  0  0  0  0  0  0  0  0  0  0  0  0  0  0 17  0  0  0  0  0  0  0  0\n",
      "   0]\n",
      " [ 0  0  0  0  0  0  0  0  0  0  0  0  0  0  0  0 22  0  0  0  0  0  0  0\n",
      "   0]\n",
      " [ 0  0  0  0  0  0  0  0  0  0  0  0  0  0  0  0  0 18  0  0  0  0  0  0\n",
      "   0]\n",
      " [ 0  0  0  0  0  0  0  0  0  0  0  0  0  0  0  0  0  0 15  0  0  0  0  0\n",
      "   0]\n",
      " [ 0  0  0  0  0  0  0  0  0  0  0  0  0  0  0  0  0  0  0 21  0  0  0  0\n",
      "   0]\n",
      " [ 0  0  0  0  0  0  0  0  0  0  0  0  0  0  0  0  0  0  0  0 14  0  0  0\n",
      "   0]\n",
      " [ 0  0  0  0  0  0  0  0  0  0  0  0  0  0  0  0  0  0  0  0  0 16  0  0\n",
      "   0]\n",
      " [ 0  0  0  0  0  0  0  0  0  0  0  0  0  0  0  0  0  0  0  0  0  0 13  0\n",
      "   0]\n",
      " [ 0  0  0  0  0  0  0  0  0  0  0  0  0  0  0  0  0  0  0  0  0  0  0 17\n",
      "   0]\n",
      " [ 0  0  0  0  0  0  0  0  0  0  0  0  0  0  0  0  0  0  0  0  0  0  0  0\n",
      "  16]]\n",
      "Classification Report:\n",
      "              precision    recall  f1-score   support\n",
      "\n",
      "           0       1.00      1.00      1.00        14\n",
      "           1       1.00      1.00      1.00        13\n",
      "           2       0.88      1.00      0.94        15\n",
      "           3       1.00      1.00      1.00        20\n",
      "           4       1.00      1.00      1.00        20\n",
      "           5       1.00      1.00      1.00        11\n",
      "           6       1.00      1.00      1.00        15\n",
      "           7       1.00      1.00      1.00        17\n",
      "           8       1.00      0.90      0.95        21\n",
      "           9       1.00      1.00      1.00        13\n",
      "          10       1.00      1.00      1.00        17\n",
      "          11       1.00      1.00      1.00        20\n",
      "          12       1.00      1.00      1.00        15\n",
      "          13       1.00      1.00      1.00        20\n",
      "          14       1.00      1.00      1.00        20\n",
      "          15       1.00      1.00      1.00        17\n",
      "          16       1.00      1.00      1.00        22\n",
      "          17       1.00      1.00      1.00        18\n",
      "          18       1.00      1.00      1.00        15\n",
      "          19       1.00      1.00      1.00        21\n",
      "          20       1.00      1.00      1.00        14\n",
      "          21       1.00      1.00      1.00        16\n",
      "          22       1.00      1.00      1.00        13\n",
      "          23       1.00      1.00      1.00        17\n",
      "          24       1.00      1.00      1.00        16\n",
      "\n",
      "    accuracy                           1.00       420\n",
      "   macro avg       1.00      1.00      1.00       420\n",
      "weighted avg       1.00      1.00      1.00       420\n",
      "\n"
     ]
    }
   ],
   "source": [
    "knn_model = OneVsRestClassifier(KNeighborsClassifier(n_neighbors=5))\n",
    "knn_model.fit(X_train, y_train)\n",
    "y_pred_knn = knn_model.predict(X_test)\n",
    "print(\"\\nKNeighborsClassifier Results:\")\n",
    "print(f\"Accuracy: {accuracy_score(y_test, y_pred_knn):.4f}\")\n",
    "print(f\"Confusion Matrix:\\n{confusion_matrix(y_test, y_pred_knn)}\")\n",
    "print(f\"Classification Report:\\n{classification_report(y_test, y_pred_knn)}\")"
   ]
  },
  {
   "cell_type": "code",
   "execution_count": 15,
   "id": "fc65aa9d-c124-4fe3-bcd6-9dc446697533",
   "metadata": {},
   "outputs": [
    {
     "name": "stdout",
     "output_type": "stream",
     "text": [
      "\n",
      "SVC Results:\n",
      "Accuracy: 0.9952\n",
      "Confusion Matrix:\n",
      "[[14  0  0  0  0  0  0  0  0  0  0  0  0  0  0  0  0  0  0  0  0  0  0  0\n",
      "   0]\n",
      " [ 0 13  0  0  0  0  0  0  0  0  0  0  0  0  0  0  0  0  0  0  0  0  0  0\n",
      "   0]\n",
      " [ 0  0 15  0  0  0  0  0  0  0  0  0  0  0  0  0  0  0  0  0  0  0  0  0\n",
      "   0]\n",
      " [ 0  0  0 20  0  0  0  0  0  0  0  0  0  0  0  0  0  0  0  0  0  0  0  0\n",
      "   0]\n",
      " [ 0  0  0  0 20  0  0  0  0  0  0  0  0  0  0  0  0  0  0  0  0  0  0  0\n",
      "   0]\n",
      " [ 0  0  0  0  0 11  0  0  0  0  0  0  0  0  0  0  0  0  0  0  0  0  0  0\n",
      "   0]\n",
      " [ 0  0  0  0  0  0 15  0  0  0  0  0  0  0  0  0  0  0  0  0  0  0  0  0\n",
      "   0]\n",
      " [ 0  0  0  0  0  0  0 17  0  0  0  0  0  0  0  0  0  0  0  0  0  0  0  0\n",
      "   0]\n",
      " [ 0  0  2  0  0  0  0  0 19  0  0  0  0  0  0  0  0  0  0  0  0  0  0  0\n",
      "   0]\n",
      " [ 0  0  0  0  0  0  0  0  0 13  0  0  0  0  0  0  0  0  0  0  0  0  0  0\n",
      "   0]\n",
      " [ 0  0  0  0  0  0  0  0  0  0 17  0  0  0  0  0  0  0  0  0  0  0  0  0\n",
      "   0]\n",
      " [ 0  0  0  0  0  0  0  0  0  0  0 20  0  0  0  0  0  0  0  0  0  0  0  0\n",
      "   0]\n",
      " [ 0  0  0  0  0  0  0  0  0  0  0  0 15  0  0  0  0  0  0  0  0  0  0  0\n",
      "   0]\n",
      " [ 0  0  0  0  0  0  0  0  0  0  0  0  0 20  0  0  0  0  0  0  0  0  0  0\n",
      "   0]\n",
      " [ 0  0  0  0  0  0  0  0  0  0  0  0  0  0 20  0  0  0  0  0  0  0  0  0\n",
      "   0]\n",
      " [ 0  0  0  0  0  0  0  0  0  0  0  0  0  0  0 17  0  0  0  0  0  0  0  0\n",
      "   0]\n",
      " [ 0  0  0  0  0  0  0  0  0  0  0  0  0  0  0  0 22  0  0  0  0  0  0  0\n",
      "   0]\n",
      " [ 0  0  0  0  0  0  0  0  0  0  0  0  0  0  0  0  0 18  0  0  0  0  0  0\n",
      "   0]\n",
      " [ 0  0  0  0  0  0  0  0  0  0  0  0  0  0  0  0  0  0 15  0  0  0  0  0\n",
      "   0]\n",
      " [ 0  0  0  0  0  0  0  0  0  0  0  0  0  0  0  0  0  0  0 21  0  0  0  0\n",
      "   0]\n",
      " [ 0  0  0  0  0  0  0  0  0  0  0  0  0  0  0  0  0  0  0  0 14  0  0  0\n",
      "   0]\n",
      " [ 0  0  0  0  0  0  0  0  0  0  0  0  0  0  0  0  0  0  0  0  0 16  0  0\n",
      "   0]\n",
      " [ 0  0  0  0  0  0  0  0  0  0  0  0  0  0  0  0  0  0  0  0  0  0 13  0\n",
      "   0]\n",
      " [ 0  0  0  0  0  0  0  0  0  0  0  0  0  0  0  0  0  0  0  0  0  0  0 17\n",
      "   0]\n",
      " [ 0  0  0  0  0  0  0  0  0  0  0  0  0  0  0  0  0  0  0  0  0  0  0  0\n",
      "  16]]\n",
      "Classification Report:\n",
      "              precision    recall  f1-score   support\n",
      "\n",
      "           0       1.00      1.00      1.00        14\n",
      "           1       1.00      1.00      1.00        13\n",
      "           2       0.88      1.00      0.94        15\n",
      "           3       1.00      1.00      1.00        20\n",
      "           4       1.00      1.00      1.00        20\n",
      "           5       1.00      1.00      1.00        11\n",
      "           6       1.00      1.00      1.00        15\n",
      "           7       1.00      1.00      1.00        17\n",
      "           8       1.00      0.90      0.95        21\n",
      "           9       1.00      1.00      1.00        13\n",
      "          10       1.00      1.00      1.00        17\n",
      "          11       1.00      1.00      1.00        20\n",
      "          12       1.00      1.00      1.00        15\n",
      "          13       1.00      1.00      1.00        20\n",
      "          14       1.00      1.00      1.00        20\n",
      "          15       1.00      1.00      1.00        17\n",
      "          16       1.00      1.00      1.00        22\n",
      "          17       1.00      1.00      1.00        18\n",
      "          18       1.00      1.00      1.00        15\n",
      "          19       1.00      1.00      1.00        21\n",
      "          20       1.00      1.00      1.00        14\n",
      "          21       1.00      1.00      1.00        16\n",
      "          22       1.00      1.00      1.00        13\n",
      "          23       1.00      1.00      1.00        17\n",
      "          24       1.00      1.00      1.00        16\n",
      "\n",
      "    accuracy                           1.00       420\n",
      "   macro avg       1.00      1.00      1.00       420\n",
      "weighted avg       1.00      1.00      1.00       420\n",
      "\n"
     ]
    }
   ],
   "source": [
    "svc_model = OneVsRestClassifier(SVC())\n",
    "svc_model.fit(X_train, y_train)\n",
    "y_pred_svc = svc_model.predict(X_test)\n",
    "print(\"\\nSVC Results:\")\n",
    "print(f\"Accuracy: {accuracy_score(y_test, y_pred_svc):.4f}\")\n",
    "print(f\"Confusion Matrix:\\n{confusion_matrix(y_test, y_pred_svc)}\")\n",
    "print(f\"Classification Report:\\n{classification_report(y_test, y_pred_svc)}\")"
   ]
  },
  {
   "cell_type": "code",
   "execution_count": 16,
   "id": "0eba4783-7413-4acd-abfb-1f3264372a1d",
   "metadata": {},
   "outputs": [
    {
     "name": "stdout",
     "output_type": "stream",
     "text": [
      "\n",
      "RandomForestClassifier Results:\n",
      "Accuracy: 0.9952\n",
      "Confusion Matrix:\n",
      "[[14  0  0  0  0  0  0  0  0  0  0  0  0  0  0  0  0  0  0  0  0  0  0  0\n",
      "   0]\n",
      " [ 0 13  0  0  0  0  0  0  0  0  0  0  0  0  0  0  0  0  0  0  0  0  0  0\n",
      "   0]\n",
      " [ 0  0 15  0  0  0  0  0  0  0  0  0  0  0  0  0  0  0  0  0  0  0  0  0\n",
      "   0]\n",
      " [ 0  0  0 20  0  0  0  0  0  0  0  0  0  0  0  0  0  0  0  0  0  0  0  0\n",
      "   0]\n",
      " [ 0  0  0  0 20  0  0  0  0  0  0  0  0  0  0  0  0  0  0  0  0  0  0  0\n",
      "   0]\n",
      " [ 0  0  0  0  0 11  0  0  0  0  0  0  0  0  0  0  0  0  0  0  0  0  0  0\n",
      "   0]\n",
      " [ 0  0  0  0  0  0 15  0  0  0  0  0  0  0  0  0  0  0  0  0  0  0  0  0\n",
      "   0]\n",
      " [ 0  0  0  0  0  0  0 17  0  0  0  0  0  0  0  0  0  0  0  0  0  0  0  0\n",
      "   0]\n",
      " [ 0  0  2  0  0  0  0  0 19  0  0  0  0  0  0  0  0  0  0  0  0  0  0  0\n",
      "   0]\n",
      " [ 0  0  0  0  0  0  0  0  0 13  0  0  0  0  0  0  0  0  0  0  0  0  0  0\n",
      "   0]\n",
      " [ 0  0  0  0  0  0  0  0  0  0 17  0  0  0  0  0  0  0  0  0  0  0  0  0\n",
      "   0]\n",
      " [ 0  0  0  0  0  0  0  0  0  0  0 20  0  0  0  0  0  0  0  0  0  0  0  0\n",
      "   0]\n",
      " [ 0  0  0  0  0  0  0  0  0  0  0  0 15  0  0  0  0  0  0  0  0  0  0  0\n",
      "   0]\n",
      " [ 0  0  0  0  0  0  0  0  0  0  0  0  0 20  0  0  0  0  0  0  0  0  0  0\n",
      "   0]\n",
      " [ 0  0  0  0  0  0  0  0  0  0  0  0  0  0 20  0  0  0  0  0  0  0  0  0\n",
      "   0]\n",
      " [ 0  0  0  0  0  0  0  0  0  0  0  0  0  0  0 17  0  0  0  0  0  0  0  0\n",
      "   0]\n",
      " [ 0  0  0  0  0  0  0  0  0  0  0  0  0  0  0  0 22  0  0  0  0  0  0  0\n",
      "   0]\n",
      " [ 0  0  0  0  0  0  0  0  0  0  0  0  0  0  0  0  0 18  0  0  0  0  0  0\n",
      "   0]\n",
      " [ 0  0  0  0  0  0  0  0  0  0  0  0  0  0  0  0  0  0 15  0  0  0  0  0\n",
      "   0]\n",
      " [ 0  0  0  0  0  0  0  0  0  0  0  0  0  0  0  0  0  0  0 21  0  0  0  0\n",
      "   0]\n",
      " [ 0  0  0  0  0  0  0  0  0  0  0  0  0  0  0  0  0  0  0  0 14  0  0  0\n",
      "   0]\n",
      " [ 0  0  0  0  0  0  0  0  0  0  0  0  0  0  0  0  0  0  0  0  0 16  0  0\n",
      "   0]\n",
      " [ 0  0  0  0  0  0  0  0  0  0  0  0  0  0  0  0  0  0  0  0  0  0 13  0\n",
      "   0]\n",
      " [ 0  0  0  0  0  0  0  0  0  0  0  0  0  0  0  0  0  0  0  0  0  0  0 17\n",
      "   0]\n",
      " [ 0  0  0  0  0  0  0  0  0  0  0  0  0  0  0  0  0  0  0  0  0  0  0  0\n",
      "  16]]\n",
      "Classification Report:\n",
      "              precision    recall  f1-score   support\n",
      "\n",
      "           0       1.00      1.00      1.00        14\n",
      "           1       1.00      1.00      1.00        13\n",
      "           2       0.88      1.00      0.94        15\n",
      "           3       1.00      1.00      1.00        20\n",
      "           4       1.00      1.00      1.00        20\n",
      "           5       1.00      1.00      1.00        11\n",
      "           6       1.00      1.00      1.00        15\n",
      "           7       1.00      1.00      1.00        17\n",
      "           8       1.00      0.90      0.95        21\n",
      "           9       1.00      1.00      1.00        13\n",
      "          10       1.00      1.00      1.00        17\n",
      "          11       1.00      1.00      1.00        20\n",
      "          12       1.00      1.00      1.00        15\n",
      "          13       1.00      1.00      1.00        20\n",
      "          14       1.00      1.00      1.00        20\n",
      "          15       1.00      1.00      1.00        17\n",
      "          16       1.00      1.00      1.00        22\n",
      "          17       1.00      1.00      1.00        18\n",
      "          18       1.00      1.00      1.00        15\n",
      "          19       1.00      1.00      1.00        21\n",
      "          20       1.00      1.00      1.00        14\n",
      "          21       1.00      1.00      1.00        16\n",
      "          22       1.00      1.00      1.00        13\n",
      "          23       1.00      1.00      1.00        17\n",
      "          24       1.00      1.00      1.00        16\n",
      "\n",
      "    accuracy                           1.00       420\n",
      "   macro avg       1.00      1.00      1.00       420\n",
      "weighted avg       1.00      1.00      1.00       420\n",
      "\n"
     ]
    }
   ],
   "source": [
    "rf_model = OneVsRestClassifier(RandomForestClassifier())\n",
    "rf_model.fit(X_train, y_train)\n",
    "y_pred_rf = rf_model.predict(X_test)\n",
    "print(\"\\nRandomForestClassifier Results:\")\n",
    "print(f\"Accuracy: {accuracy_score(y_test, y_pred_rf):.4f}\")\n",
    "print(f\"Confusion Matrix:\\n{confusion_matrix(y_test, y_pred_rf)}\")\n",
    "print(f\"Classification Report:\\n{classification_report(y_test, y_pred_rf)}\")"
   ]
  },
  {
   "cell_type": "code",
   "execution_count": 17,
   "id": "6a0e7408",
   "metadata": {},
   "outputs": [
    {
     "name": "stdout",
     "output_type": "stream",
     "text": [
      "Logistic Regression Classification Report:\n",
      "              precision    recall  f1-score   support\n",
      "\n",
      "           0       1.00      1.00      1.00        14\n",
      "           1       1.00      1.00      1.00        13\n",
      "           2       0.88      1.00      0.94        15\n",
      "           3       1.00      1.00      1.00        20\n",
      "           4       1.00      1.00      1.00        20\n",
      "           5       1.00      1.00      1.00        11\n",
      "           6       1.00      1.00      1.00        15\n",
      "           7       1.00      1.00      1.00        17\n",
      "           8       1.00      0.90      0.95        21\n",
      "           9       1.00      1.00      1.00        13\n",
      "          10       1.00      1.00      1.00        17\n",
      "          11       1.00      1.00      1.00        20\n",
      "          12       1.00      1.00      1.00        15\n",
      "          13       1.00      1.00      1.00        20\n",
      "          14       1.00      1.00      1.00        20\n",
      "          15       1.00      1.00      1.00        17\n",
      "          16       1.00      1.00      1.00        22\n",
      "          17       1.00      1.00      1.00        18\n",
      "          18       1.00      1.00      1.00        15\n",
      "          19       1.00      1.00      1.00        21\n",
      "          20       1.00      1.00      1.00        14\n",
      "          21       1.00      1.00      1.00        16\n",
      "          22       1.00      1.00      1.00        13\n",
      "          23       1.00      1.00      1.00        17\n",
      "          24       1.00      1.00      1.00        16\n",
      "\n",
      "    accuracy                           1.00       420\n",
      "   macro avg       1.00      1.00      1.00       420\n",
      "weighted avg       1.00      1.00      1.00       420\n",
      "\n",
      "Logistic Regression Accuracy: 0.9952380952380953\n"
     ]
    }
   ],
   "source": [
    "logistic_model = OneVsRestClassifier(LogisticRegression(max_iter=1000, random_state=42))\n",
    "logistic_model.fit(X_train, y_train)\n",
    "\n",
    "# Make predictions\n",
    "logistic_preds = logistic_model.predict(X_test)\n",
    "\n",
    "# Evaluate Logistic Regression\n",
    "print(\"Logistic Regression Classification Report:\")\n",
    "print(classification_report(y_test, logistic_preds))\n",
    "print(\"Logistic Regression Accuracy:\", accuracy_score(y_test, logistic_preds))"
   ]
  },
  {
   "cell_type": "markdown",
   "id": "d039040b-c7a8-4b0e-be9f-f38c9a9649d1",
   "metadata": {},
   "source": [
    "PREDICTION SYSTEM"
   ]
  },
  {
   "cell_type": "code",
   "execution_count": 18,
   "id": "372a6c1f-51d1-4413-9bc1-5203d58caab3",
   "metadata": {},
   "outputs": [],
   "source": [
    "\n",
    "def pred_rf(input_resume):\n",
    "    cleaned_text = cleanResume(input_resume) \n",
    "    vectorized_text = tfidf.transform([cleaned_text])\n",
    "    vectorized_text = vectorized_text.toarray()\n",
    "    predicted_category = rf_model.predict(vectorized_text)\n",
    "    predicted_category_name = le.inverse_transform(predicted_category)\n",
    "    return predicted_category_name[0] \n",
    "\n",
    "def pred_knn(input_resume):\n",
    "    cleaned_text = cleanResume(input_resume) \n",
    "    vectorized_text = tfidf.transform([cleaned_text])\n",
    "    vectorized_text = vectorized_text.toarray()\n",
    "    predicted_category = knn_model.predict(vectorized_text)\n",
    "    predicted_category_name = le.inverse_transform(predicted_category)\n",
    "    return predicted_category_name[0] \n",
    "\n",
    "def pred_svc(input_resume):\n",
    "    cleaned_text = cleanResume(input_resume) \n",
    "    vectorized_text = tfidf.transform([cleaned_text])\n",
    "    vectorized_text = vectorized_text.toarray()\n",
    "    predicted_category = svc_model.predict(vectorized_text)\n",
    "    predicted_category_name = le.inverse_transform(predicted_category)\n",
    "    return predicted_category_name[0] \n",
    "\n",
    "def pred_log(input_resume):\n",
    "    cleaned_text = cleanResume(input_resume) \n",
    "    vectorized_text = tfidf.transform([cleaned_text])\n",
    "    vectorized_text = vectorized_text.toarray()\n",
    "    predicted_category = logistic_model.predict(vectorized_text)\n",
    "    predicted_category_name = le.inverse_transform(predicted_category)\n",
    "    return predicted_category_name[0] "
   ]
  },
  {
   "cell_type": "code",
   "execution_count": 19,
   "id": "4314c1a7-10d3-4c2b-ac0e-47608ef4f4e8",
   "metadata": {},
   "outputs": [],
   "source": [
    "myResume=\"\"\" Arshpreet Singh +91-8872800827 · asingh6 be22@thapar.edu · in/arrxxshh1121 · github.com/arrxxhh · google/cloudskillboost EDUCATION Thapar Institute of Engineering & Technology Sept 2022 – Jun 2026\n",
    "B.E. in Computer Engineering; C.G.P.A.: 8.34 (until 4th Semester) Patiala, Punjab, India • Relevant Courses: Data Structures & Algorithms, Operating Systems, Computer Networks, Network Programming, AI/ML,\n",
    "Object-Oriented Programming, Software Engineering.\n",
    "D.A.V. Public School Apr 2007 – May 2022\n",
    "Grade XII: C.B.S.E. – P.C.M. with Informatics Practices – 94% Ludhiana, Punjab, India\n",
    "SKILLS\n",
    "Programming Languages:C, C++, Python, Java, HTML/CSS, JavaScript, MySQL\n",
    "Frameworks/Libraries:Bootstrap, jQuery, Pandas, NumPy, Matplotlib, Node.js\n",
    "Developer Tools:GitHub, Jupyter Notebooks, Google Colab, VS Code, AppSheet, GCP\n",
    "PROFESSIONAL EXPERIENCE\n",
    "Web Development Intern | HTML, CSS, JavaScript, jQuery, MySQL, PHP, Ajax Oct 2019 – Jan 2020\n",
    "D.A.V. Public School Ludhiana, Punjab, India\n",
    "• Led a team of five to create three user-centric websites for D.A.V. Public School, enhancing functionality post a year of\n",
    "mentorship in Web Development; Created a comprehensive website for the school’s annual science exhibition, SciencePedia.\n",
    "Research Project Intern | Google AI Studio, TensorFlow, Python Jun 2024 – Jul 2024\n",
    "StudentWell: Stress Detection and Management in Young Professionals T.I.E.T., Patiala, Punjab\n",
    "• Engineered a GUI with various stress detection methodologies, such as a facial recognition model; Designed a\n",
    "recommendation system to suggest stress management videos using a tailored dataset consisting of 50+ videos.\n",
    "• Enhanced existing algorithms by 20% through larger dataset training and integrating bio-sensors.\n",
    "PROJECTS\n",
    "Gesture to Text Translator | Python, TensorFlow, OpenCV, Streamlit\n",
    "• Developed a real-time ASL-to-text translator with 95% accuracy, recognizing unique signs; utilized TensorFlow and OpenCV\n",
    "to process gestures at 30 FPS with under 100ms latency.\n",
    "• Integrated Google Translate API to convert text into regional Indian languages and devised a user interface with Streamlit for\n",
    "live video interaction and multilingual accessibility.\n",
    "VCloud | HTML, CSS, JavaScript (including jQuery), MySQL, PHP, Ajax\n",
    "• Engineered VCloud, an LMS built with HTML, CSS, JavaScript, MySQL, PHP, and Ajax; integrated personalized portals and a\n",
    "unified login/signup for school teachers, boosting engagement for 100+ teachers.\n",
    "ACHIEVEMENTS AND CERTIFICATIONS\n",
    "Amazon ML Summer School 2024\n",
    "Certification in Data Structures and Algorithms with Java\n",
    "Triple Crown Award, Toastmasters International (2024)\n",
    "Finalist, C.C.S Smart Punjab Hackathon (2022)\n",
    "AIR 7, Student Innovation Challenge by SmartCircuits Innovation Pvt. Ltd. (2020)\n",
    "AIR 213, I.S.R.O. Cyberspace Competitions (2020)\n",
    "Received an award for developing ’Kaun Banega Arya Ratan?’, website for 300+ underprivileged school students\n",
    "during Arya Samaj Shivir Ludhiana (2019)\n",
    "AIR 6, Gold Medalist State Level, International Robotronics Competition League (2018)\n",
    "LEADERSHIP & EXTRACURRICULARS\n",
    "THAPAR TOASTMASTERS CLUB | Vice President, Manager of Technical Affairs\n",
    "• Supervised a team of 40 for the flagship event and organized a week-long event in a campus of 5,000+, increasing the\n",
    "audience by 60%. Oversaw the recruitment process, interviewing 200+ candidates and recruiting 25 members.\n",
    "• Directed technical operations for the club, producing cross-platform social content that increased engagement by 40%, and\n",
    "supervised PR strategies for events, boosting attendance by 25%.\n",
    "TEDXTIET | Designing and Event Management Core\n",
    "• Revived TEDx event on campus after a 3-year hiatus. Facilitated the design of merchandise, posters, and Instagram content;\n",
    "co-managed publicity, ensuring successful TEDx Talk execution.\"\"\""
   ]
  },
  {
   "cell_type": "code",
   "execution_count": 20,
   "id": "047ce50d-ddf6-4424-90bb-29cf9ef4d0bf",
   "metadata": {},
   "outputs": [
    {
     "data": {
      "text/plain": [
       "'Web Designing'"
      ]
     },
     "execution_count": 20,
     "metadata": {},
     "output_type": "execute_result"
    }
   ],
   "source": [
    "pred_knn(myResume)"
   ]
  },
  {
   "cell_type": "code",
   "execution_count": 21,
   "id": "c48d14dc",
   "metadata": {},
   "outputs": [
    {
     "data": {
      "text/plain": [
       "'Data Science'"
      ]
     },
     "execution_count": 21,
     "metadata": {},
     "output_type": "execute_result"
    }
   ],
   "source": [
    "pred_svc(myResume)"
   ]
  },
  {
   "cell_type": "code",
   "execution_count": 22,
   "id": "fd076215",
   "metadata": {},
   "outputs": [
    {
     "data": {
      "text/plain": [
       "'Data Science'"
      ]
     },
     "execution_count": 22,
     "metadata": {},
     "output_type": "execute_result"
    }
   ],
   "source": [
    "pred_rf(myResume)"
   ]
  },
  {
   "cell_type": "code",
   "execution_count": 23,
   "id": "f4d485a5",
   "metadata": {},
   "outputs": [
    {
     "data": {
      "text/plain": [
       "'Data Science'"
      ]
     },
     "execution_count": 23,
     "metadata": {},
     "output_type": "execute_result"
    }
   ],
   "source": [
    "pred_log(myResume)"
   ]
  },
  {
   "cell_type": "code",
   "execution_count": 24,
   "id": "bdac4ab6-f7dd-4e08-80f7-fbad08df3bd2",
   "metadata": {},
   "outputs": [
    {
     "data": {
      "text/plain": [
       "'Advocate'"
      ]
     },
     "execution_count": 24,
     "metadata": {},
     "output_type": "execute_result"
    }
   ],
   "source": [
    "myresume = \"\"\"\n",
    "LAWYER RESUME (INTERNSHIP)\n",
    "47oo MicLaughin Street New Tork, NT 00001 | (306) 555-1234 1 pourname@emal.com\n",
    "th e...\n",
    "Ківемоти\n",
    "Eelty cotvated law stadent souking an internship at Cueenbein Fatners to leverage any stcone iosal reseanch and\n",
    "Smat pegotation skils, Eagerto gain banda-on experience in corporate law and coneribute to the drmis fast\n",
    "growing business by supporung the negotiation of ND As and other legal documenation. Committed to working hard and demonstrating in thathe, creativity, and enchusly for keaming in a dysam; team-orientel en ron eat,\n",
    "EDUCATION\n",
    "COLUMBIA UNIVERSITY SCHOOL OF LAW\n",
    "Jns Docor Candidant\n",
    "Current OPA: 3.7/40\n",
    "Relevant Coursework: Contract Law, Corporate Law, Negotiation and Mediation, Securities Regulation, Lepx Research and Writing\n",
    "New York, NY\n",
    "Nay 20XX\n",
    "EXPERIENCE\n",
    "SMITH & ASSO ULAUDS\n",
    "Legal Intern\n",
    "* Prafed and nepaiated Sor non deciosune apreements for various cilienss\n",
    "* Conducted extensive legal research on contract law and corporate law gasues\n",
    "sstued in the prepacation oclesai document and client corespoodenoe\n",
    "* Collaborated with a team of 5 attorneys on complex corpocate transactions.\n",
    "New Hock, NY\n",
    "Fad 2010Х-44ay 200k\n",
    "LEGAL AID SOCIETY\n",
    "Volunter Legal Assistant\n",
    "* Provided legal assistance to low-income clients in 30+ cases involving housing and employment\n",
    "New York, NY\n",
    "Том 20ХХ-Аце 200Х\n",
    "* Conduced client intake interviews and prepared case summaries for attorneys\n",
    "* Oroinied and maintained a Slling system for 200i client records\n",
    "Anxised in the draking of legal documents and court filings\n",
    "SKILLS\n",
    "* Contract necotlation.\n",
    "* Legal rexearch\n",
    "* Document dealina\n",
    "* Problem solving\n",
    "* Oral communication.\n",
    "* Judgment\n",
    "\"\"\"\n",
    "\n",
    "# Now, test the model with the Health and Fitness-focused resume\n",
    "pred_knn(myresume)"
   ]
  },
  {
   "cell_type": "code",
   "execution_count": 25,
   "id": "0bbaa1dd",
   "metadata": {},
   "outputs": [
    {
     "data": {
      "text/plain": [
       "'Advocate'"
      ]
     },
     "execution_count": 25,
     "metadata": {},
     "output_type": "execute_result"
    }
   ],
   "source": [
    "pred_svc(myresume)"
   ]
  },
  {
   "cell_type": "code",
   "execution_count": 26,
   "id": "8322c2fe",
   "metadata": {},
   "outputs": [
    {
     "data": {
      "text/plain": [
       "'Advocate'"
      ]
     },
     "execution_count": 26,
     "metadata": {},
     "output_type": "execute_result"
    }
   ],
   "source": [
    "pred_rf(myresume)"
   ]
  },
  {
   "cell_type": "code",
   "execution_count": 27,
   "id": "92bbff80",
   "metadata": {},
   "outputs": [
    {
     "data": {
      "text/plain": [
       "'Advocate'"
      ]
     },
     "execution_count": 27,
     "metadata": {},
     "output_type": "execute_result"
    }
   ],
   "source": [
    "pred_log(myresume)"
   ]
  }
 ],
 "metadata": {
  "kernelspec": {
   "display_name": "Python 3",
   "language": "python",
   "name": "python3"
  },
  "language_info": {
   "codemirror_mode": {
    "name": "ipython",
    "version": 3
   },
   "file_extension": ".py",
   "mimetype": "text/x-python",
   "name": "python",
   "nbconvert_exporter": "python",
   "pygments_lexer": "ipython3",
   "version": "3.12.0"
  }
 },
 "nbformat": 4,
 "nbformat_minor": 5
}
